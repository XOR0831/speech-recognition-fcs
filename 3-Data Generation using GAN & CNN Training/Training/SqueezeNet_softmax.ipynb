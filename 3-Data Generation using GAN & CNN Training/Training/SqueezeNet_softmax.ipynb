{
 "cells": [
  {
   "cell_type": "code",
   "execution_count": 1,
   "metadata": {},
   "outputs": [
    {
     "name": "stderr",
     "output_type": "stream",
     "text": [
      "Using TensorFlow backend.\n"
     ]
    }
   ],
   "source": [
    "from squeezenet_softmax import SqueezeNet"
   ]
  },
  {
   "cell_type": "code",
   "execution_count": 2,
   "metadata": {},
   "outputs": [
    {
     "name": "stdout",
     "output_type": "stream",
     "text": [
      "WARNING:tensorflow:From C:\\Users\\soria\\Anaconda3\\envs\\DL\\lib\\site-packages\\tensorflow\\python\\framework\\op_def_library.py:263: colocate_with (from tensorflow.python.framework.ops) is deprecated and will be removed in a future version.\n",
      "Instructions for updating:\n",
      "Colocations handled automatically by placer.\n",
      "WARNING:tensorflow:From C:\\Users\\soria\\Anaconda3\\envs\\DL\\lib\\site-packages\\keras\\backend\\tensorflow_backend.py:3445: calling dropout (from tensorflow.python.ops.nn_ops) with keep_prob is deprecated and will be removed in a future version.\n",
      "Instructions for updating:\n",
      "Please use `rate` instead of `keep_prob`. Rate should be set to `rate = 1 - keep_prob`.\n"
     ]
    }
   ],
   "source": [
    "model_squeezenet = SqueezeNet(input_shape=(32,32,3), classes=41, pooling='max')"
   ]
  },
  {
   "cell_type": "code",
   "execution_count": 3,
   "metadata": {},
   "outputs": [
    {
     "data": {
      "text/plain": [
       "67"
      ]
     },
     "execution_count": 3,
     "metadata": {},
     "output_type": "execute_result"
    }
   ],
   "source": [
    "len(model_squeezenet.layers)"
   ]
  },
  {
   "cell_type": "code",
   "execution_count": 4,
   "metadata": {},
   "outputs": [
    {
     "name": "stdout",
     "output_type": "stream",
     "text": [
      "__________________________________________________________________________________________________\n",
      "Layer (type)                    Output Shape         Param #     Connected to                     \n",
      "==================================================================================================\n",
      "input_1 (InputLayer)            (None, 32, 32, 3)    0                                            \n",
      "__________________________________________________________________________________________________\n",
      "conv1 (Conv2D)                  (None, 15, 15, 64)   1792        input_1[0][0]                    \n",
      "__________________________________________________________________________________________________\n",
      "relu_conv1 (Activation)         (None, 15, 15, 64)   0           conv1[0][0]                      \n",
      "__________________________________________________________________________________________________\n",
      "pool1 (MaxPooling2D)            (None, 7, 7, 64)     0           relu_conv1[0][0]                 \n",
      "__________________________________________________________________________________________________\n",
      "fire2/squeeze1x1 (Conv2D)       (None, 7, 7, 16)     1040        pool1[0][0]                      \n",
      "__________________________________________________________________________________________________\n",
      "fire2/relu_squeeze1x1 (Activati (None, 7, 7, 16)     0           fire2/squeeze1x1[0][0]           \n",
      "__________________________________________________________________________________________________\n",
      "fire2/expand1x1 (Conv2D)        (None, 7, 7, 64)     1088        fire2/relu_squeeze1x1[0][0]      \n",
      "__________________________________________________________________________________________________\n",
      "fire2/expand3x3 (Conv2D)        (None, 7, 7, 64)     9280        fire2/relu_squeeze1x1[0][0]      \n",
      "__________________________________________________________________________________________________\n",
      "fire2/relu_expand1x1 (Activatio (None, 7, 7, 64)     0           fire2/expand1x1[0][0]            \n",
      "__________________________________________________________________________________________________\n",
      "fire2/relu_expand3x3 (Activatio (None, 7, 7, 64)     0           fire2/expand3x3[0][0]            \n",
      "__________________________________________________________________________________________________\n",
      "fire2/concat (Concatenate)      (None, 7, 7, 128)    0           fire2/relu_expand1x1[0][0]       \n",
      "                                                                 fire2/relu_expand3x3[0][0]       \n",
      "__________________________________________________________________________________________________\n",
      "fire3/squeeze1x1 (Conv2D)       (None, 7, 7, 16)     2064        fire2/concat[0][0]               \n",
      "__________________________________________________________________________________________________\n",
      "fire3/relu_squeeze1x1 (Activati (None, 7, 7, 16)     0           fire3/squeeze1x1[0][0]           \n",
      "__________________________________________________________________________________________________\n",
      "fire3/expand1x1 (Conv2D)        (None, 7, 7, 64)     1088        fire3/relu_squeeze1x1[0][0]      \n",
      "__________________________________________________________________________________________________\n",
      "fire3/expand3x3 (Conv2D)        (None, 7, 7, 64)     9280        fire3/relu_squeeze1x1[0][0]      \n",
      "__________________________________________________________________________________________________\n",
      "fire3/relu_expand1x1 (Activatio (None, 7, 7, 64)     0           fire3/expand1x1[0][0]            \n",
      "__________________________________________________________________________________________________\n",
      "fire3/relu_expand3x3 (Activatio (None, 7, 7, 64)     0           fire3/expand3x3[0][0]            \n",
      "__________________________________________________________________________________________________\n",
      "fire3/concat (Concatenate)      (None, 7, 7, 128)    0           fire3/relu_expand1x1[0][0]       \n",
      "                                                                 fire3/relu_expand3x3[0][0]       \n",
      "__________________________________________________________________________________________________\n",
      "pool3 (MaxPooling2D)            (None, 3, 3, 128)    0           fire3/concat[0][0]               \n",
      "__________________________________________________________________________________________________\n",
      "fire4/squeeze1x1 (Conv2D)       (None, 3, 3, 32)     4128        pool3[0][0]                      \n",
      "__________________________________________________________________________________________________\n",
      "fire4/relu_squeeze1x1 (Activati (None, 3, 3, 32)     0           fire4/squeeze1x1[0][0]           \n",
      "__________________________________________________________________________________________________\n",
      "fire4/expand1x1 (Conv2D)        (None, 3, 3, 128)    4224        fire4/relu_squeeze1x1[0][0]      \n",
      "__________________________________________________________________________________________________\n",
      "fire4/expand3x3 (Conv2D)        (None, 3, 3, 128)    36992       fire4/relu_squeeze1x1[0][0]      \n",
      "__________________________________________________________________________________________________\n",
      "fire4/relu_expand1x1 (Activatio (None, 3, 3, 128)    0           fire4/expand1x1[0][0]            \n",
      "__________________________________________________________________________________________________\n",
      "fire4/relu_expand3x3 (Activatio (None, 3, 3, 128)    0           fire4/expand3x3[0][0]            \n",
      "__________________________________________________________________________________________________\n",
      "fire4/concat (Concatenate)      (None, 3, 3, 256)    0           fire4/relu_expand1x1[0][0]       \n",
      "                                                                 fire4/relu_expand3x3[0][0]       \n",
      "__________________________________________________________________________________________________\n",
      "fire5/squeeze1x1 (Conv2D)       (None, 3, 3, 32)     8224        fire4/concat[0][0]               \n",
      "__________________________________________________________________________________________________\n",
      "fire5/relu_squeeze1x1 (Activati (None, 3, 3, 32)     0           fire5/squeeze1x1[0][0]           \n",
      "__________________________________________________________________________________________________\n",
      "fire5/expand1x1 (Conv2D)        (None, 3, 3, 128)    4224        fire5/relu_squeeze1x1[0][0]      \n",
      "__________________________________________________________________________________________________\n",
      "fire5/expand3x3 (Conv2D)        (None, 3, 3, 128)    36992       fire5/relu_squeeze1x1[0][0]      \n",
      "__________________________________________________________________________________________________\n",
      "fire5/relu_expand1x1 (Activatio (None, 3, 3, 128)    0           fire5/expand1x1[0][0]            \n",
      "__________________________________________________________________________________________________\n",
      "fire5/relu_expand3x3 (Activatio (None, 3, 3, 128)    0           fire5/expand3x3[0][0]            \n",
      "__________________________________________________________________________________________________\n",
      "fire5/concat (Concatenate)      (None, 3, 3, 256)    0           fire5/relu_expand1x1[0][0]       \n",
      "                                                                 fire5/relu_expand3x3[0][0]       \n",
      "__________________________________________________________________________________________________\n",
      "pool5 (MaxPooling2D)            (None, 1, 1, 256)    0           fire5/concat[0][0]               \n",
      "__________________________________________________________________________________________________\n",
      "fire6/squeeze1x1 (Conv2D)       (None, 1, 1, 48)     12336       pool5[0][0]                      \n",
      "__________________________________________________________________________________________________\n",
      "fire6/relu_squeeze1x1 (Activati (None, 1, 1, 48)     0           fire6/squeeze1x1[0][0]           \n",
      "__________________________________________________________________________________________________\n",
      "fire6/expand1x1 (Conv2D)        (None, 1, 1, 192)    9408        fire6/relu_squeeze1x1[0][0]      \n",
      "__________________________________________________________________________________________________\n",
      "fire6/expand3x3 (Conv2D)        (None, 1, 1, 192)    83136       fire6/relu_squeeze1x1[0][0]      \n",
      "__________________________________________________________________________________________________\n",
      "fire6/relu_expand1x1 (Activatio (None, 1, 1, 192)    0           fire6/expand1x1[0][0]            \n",
      "__________________________________________________________________________________________________\n",
      "fire6/relu_expand3x3 (Activatio (None, 1, 1, 192)    0           fire6/expand3x3[0][0]            \n",
      "__________________________________________________________________________________________________\n",
      "fire6/concat (Concatenate)      (None, 1, 1, 384)    0           fire6/relu_expand1x1[0][0]       \n",
      "                                                                 fire6/relu_expand3x3[0][0]       \n",
      "__________________________________________________________________________________________________\n",
      "fire7/squeeze1x1 (Conv2D)       (None, 1, 1, 48)     18480       fire6/concat[0][0]               \n",
      "__________________________________________________________________________________________________\n",
      "fire7/relu_squeeze1x1 (Activati (None, 1, 1, 48)     0           fire7/squeeze1x1[0][0]           \n",
      "__________________________________________________________________________________________________\n",
      "fire7/expand1x1 (Conv2D)        (None, 1, 1, 192)    9408        fire7/relu_squeeze1x1[0][0]      \n",
      "__________________________________________________________________________________________________\n",
      "fire7/expand3x3 (Conv2D)        (None, 1, 1, 192)    83136       fire7/relu_squeeze1x1[0][0]      \n",
      "__________________________________________________________________________________________________\n",
      "fire7/relu_expand1x1 (Activatio (None, 1, 1, 192)    0           fire7/expand1x1[0][0]            \n",
      "__________________________________________________________________________________________________\n",
      "fire7/relu_expand3x3 (Activatio (None, 1, 1, 192)    0           fire7/expand3x3[0][0]            \n",
      "__________________________________________________________________________________________________\n",
      "fire7/concat (Concatenate)      (None, 1, 1, 384)    0           fire7/relu_expand1x1[0][0]       \n",
      "                                                                 fire7/relu_expand3x3[0][0]       \n",
      "__________________________________________________________________________________________________\n",
      "fire8/squeeze1x1 (Conv2D)       (None, 1, 1, 64)     24640       fire7/concat[0][0]               \n",
      "__________________________________________________________________________________________________\n",
      "fire8/relu_squeeze1x1 (Activati (None, 1, 1, 64)     0           fire8/squeeze1x1[0][0]           \n",
      "__________________________________________________________________________________________________\n",
      "fire8/expand1x1 (Conv2D)        (None, 1, 1, 256)    16640       fire8/relu_squeeze1x1[0][0]      \n",
      "__________________________________________________________________________________________________\n",
      "fire8/expand3x3 (Conv2D)        (None, 1, 1, 256)    147712      fire8/relu_squeeze1x1[0][0]      \n",
      "__________________________________________________________________________________________________\n",
      "fire8/relu_expand1x1 (Activatio (None, 1, 1, 256)    0           fire8/expand1x1[0][0]            \n",
      "__________________________________________________________________________________________________\n",
      "fire8/relu_expand3x3 (Activatio (None, 1, 1, 256)    0           fire8/expand3x3[0][0]            \n",
      "__________________________________________________________________________________________________\n",
      "fire8/concat (Concatenate)      (None, 1, 1, 512)    0           fire8/relu_expand1x1[0][0]       \n",
      "                                                                 fire8/relu_expand3x3[0][0]       \n",
      "__________________________________________________________________________________________________\n",
      "fire9/squeeze1x1 (Conv2D)       (None, 1, 1, 64)     32832       fire8/concat[0][0]               \n",
      "__________________________________________________________________________________________________\n",
      "fire9/relu_squeeze1x1 (Activati (None, 1, 1, 64)     0           fire9/squeeze1x1[0][0]           \n",
      "__________________________________________________________________________________________________\n",
      "fire9/expand1x1 (Conv2D)        (None, 1, 1, 256)    16640       fire9/relu_squeeze1x1[0][0]      \n",
      "__________________________________________________________________________________________________\n",
      "fire9/expand3x3 (Conv2D)        (None, 1, 1, 256)    147712      fire9/relu_squeeze1x1[0][0]      \n",
      "__________________________________________________________________________________________________\n",
      "fire9/relu_expand1x1 (Activatio (None, 1, 1, 256)    0           fire9/expand1x1[0][0]            \n",
      "__________________________________________________________________________________________________\n",
      "fire9/relu_expand3x3 (Activatio (None, 1, 1, 256)    0           fire9/expand3x3[0][0]            \n",
      "__________________________________________________________________________________________________\n",
      "fire9/concat (Concatenate)      (None, 1, 1, 512)    0           fire9/relu_expand1x1[0][0]       \n",
      "                                                                 fire9/relu_expand3x3[0][0]       \n",
      "__________________________________________________________________________________________________\n",
      "drop9 (Dropout)                 (None, 1, 1, 512)    0           fire9/concat[0][0]               \n",
      "__________________________________________________________________________________________________\n",
      "conv10 (Conv2D)                 (None, 1, 1, 4)      2052        drop9[0][0]                      \n",
      "__________________________________________________________________________________________________\n",
      "relu_conv10 (Activation)        (None, 1, 1, 4)      0           conv10[0][0]                     \n",
      "__________________________________________________________________________________________________\n",
      "global_average_pooling2d_1 (Glo (None, 4)            0           relu_conv10[0][0]                \n",
      "__________________________________________________________________________________________________\n",
      "loss (Activation)               (None, 4)            0           global_average_pooling2d_1[0][0] \n",
      "==================================================================================================\n",
      "Total params: 724,548\n",
      "Trainable params: 724,548\n",
      "Non-trainable params: 0\n",
      "__________________________________________________________________________________________________\n"
     ]
    }
   ],
   "source": [
    "model_squeezenet.summary()"
   ]
  },
  {
   "cell_type": "code",
   "execution_count": 35,
   "metadata": {},
   "outputs": [],
   "source": [
    "from keras.optimizers import Adam"
   ]
  },
  {
   "cell_type": "code",
   "execution_count": 6,
   "metadata": {},
   "outputs": [
    {
     "name": "stderr",
     "output_type": "stream",
     "text": [
      "W1023 08:04:44.759437 140512190953280 deprecation_wrapper.py:119] From /home/ec2-user/anaconda3/envs/tensorflow_p36/lib/python3.6/site-packages/keras/optimizers.py:790: The name tf.train.Optimizer is deprecated. Please use tf.compat.v1.train.Optimizer instead.\n",
      "\n",
      "W1023 08:04:44.768488 140512190953280 deprecation_wrapper.py:119] From /home/ec2-user/anaconda3/envs/tensorflow_p36/lib/python3.6/site-packages/keras/backend/tensorflow_backend.py:3295: The name tf.log is deprecated. Please use tf.math.log instead.\n",
      "\n"
     ]
    }
   ],
   "source": [
    "model_squeezenet.compile(\n",
    "    loss=\"categorical_crossentropy\",\n",
    "    optimizer=Adam(lr=0.0001),\n",
    "    metrics=[\"acc\"],\n",
    ")"
   ]
  },
  {
   "cell_type": "code",
   "execution_count": 7,
   "metadata": {},
   "outputs": [],
   "source": [
    "model_squeezenet.save('SqueezeNet-Model.h5')"
   ]
  },
  {
   "cell_type": "code",
   "execution_count": null,
   "metadata": {},
   "outputs": [],
   "source": []
  },
  {
   "cell_type": "code",
   "execution_count": 3,
   "metadata": {},
   "outputs": [],
   "source": [
    "model_squeezenet.load_weights('Trained-SqueezeNet-Model-FCS-Type-V2-11-10-2019-V2-1-Epoch 08--Train Acc 1.00--Val Acc 0.85.h5')"
   ]
  },
  {
   "cell_type": "code",
   "execution_count": null,
   "metadata": {},
   "outputs": [],
   "source": []
  },
  {
   "cell_type": "code",
   "execution_count": 6,
   "metadata": {},
   "outputs": [],
   "source": [
    "from keras.utils import plot_model"
   ]
  },
  {
   "cell_type": "code",
   "execution_count": 8,
   "metadata": {},
   "outputs": [],
   "source": [
    "plot_model(model_squeezenet, to_file=\"model.png\", show_shapes=True, rankdir=\"TB\")"
   ]
  },
  {
   "cell_type": "code",
   "execution_count": null,
   "metadata": {},
   "outputs": [],
   "source": []
  },
  {
   "cell_type": "code",
   "execution_count": 1,
   "metadata": {},
   "outputs": [
    {
     "name": "stderr",
     "output_type": "stream",
     "text": [
      "Using TensorFlow backend.\n"
     ]
    }
   ],
   "source": [
    "from keras.models import load_model"
   ]
  },
  {
   "cell_type": "code",
   "execution_count": 2,
   "metadata": {},
   "outputs": [
    {
     "name": "stdout",
     "output_type": "stream",
     "text": [
      "WARNING:tensorflow:From /home/ec2-user/anaconda3/envs/tensorflow_p36/lib/python3.6/site-packages/tensorflow/python/framework/op_def_library.py:263: colocate_with (from tensorflow.python.framework.ops) is deprecated and will be removed in a future version.\n",
      "Instructions for updating:\n",
      "Colocations handled automatically by placer.\n",
      "WARNING:tensorflow:From /home/ec2-user/anaconda3/envs/tensorflow_p36/lib/python3.6/site-packages/keras/backend/tensorflow_backend.py:3445: calling dropout (from tensorflow.python.ops.nn_ops) with keep_prob is deprecated and will be removed in a future version.\n",
      "Instructions for updating:\n",
      "Please use `rate` instead of `keep_prob`. Rate should be set to `rate = 1 - keep_prob`.\n",
      "WARNING:tensorflow:From /home/ec2-user/anaconda3/envs/tensorflow_p36/lib/python3.6/site-packages/tensorflow/python/ops/math_ops.py:3066: to_int32 (from tensorflow.python.ops.math_ops) is deprecated and will be removed in a future version.\n",
      "Instructions for updating:\n",
      "Use tf.cast instead.\n"
     ]
    }
   ],
   "source": [
    "model_squeezenet = load_model('Trained-SqueezeNet-Model-DATAV2-Cry-Type.h5')"
   ]
  },
  {
   "cell_type": "code",
   "execution_count": null,
   "metadata": {},
   "outputs": [],
   "source": []
  },
  {
   "cell_type": "code",
   "execution_count": 5,
   "metadata": {},
   "outputs": [],
   "source": [
    "from keras.datasets import cifar10"
   ]
  },
  {
   "cell_type": "code",
   "execution_count": 6,
   "metadata": {},
   "outputs": [],
   "source": [
    "(x_train, y_train), (x_test, y_test) = cifar10.load_data()"
   ]
  },
  {
   "cell_type": "code",
   "execution_count": 7,
   "metadata": {},
   "outputs": [],
   "source": [
    "from keras.utils import to_categorical\n",
    "y_train = to_categorical(y_train, 10)\n",
    "y_test = to_categorical(y_test, 10)"
   ]
  },
  {
   "cell_type": "code",
   "execution_count": 8,
   "metadata": {},
   "outputs": [],
   "source": [
    "import datetime"
   ]
  },
  {
   "cell_type": "code",
   "execution_count": 9,
   "metadata": {},
   "outputs": [
    {
     "name": "stdout",
     "output_type": "stream",
     "text": [
      "WARNING:tensorflow:From /home/ec2-user/anaconda3/envs/tensorflow_p36/lib/python3.6/site-packages/tensorflow/python/ops/math_ops.py:3066: to_int32 (from tensorflow.python.ops.math_ops) is deprecated and will be removed in a future version.\n",
      "Instructions for updating:\n",
      "Use tf.cast instead.\n",
      "Train on 50000 samples, validate on 10000 samples\n",
      "Epoch 1/10\n",
      "50000/50000 [==============================] - 32s 639us/step - loss: 1.9980 - acc: 0.2156 - val_loss: 1.7298 - val_acc: 0.3320\n",
      "Epoch 2/10\n",
      "50000/50000 [==============================] - 29s 574us/step - loss: 1.6940 - acc: 0.3429 - val_loss: 1.6024 - val_acc: 0.3935\n",
      "Epoch 3/10\n",
      "50000/50000 [==============================] - 29s 578us/step - loss: 1.5202 - acc: 0.4316 - val_loss: 1.4046 - val_acc: 0.4801\n",
      "Epoch 4/10\n",
      "50000/50000 [==============================] - 29s 573us/step - loss: 1.4021 - acc: 0.4883 - val_loss: 1.3813 - val_acc: 0.4852\n",
      "Epoch 5/10\n",
      "50000/50000 [==============================] - 29s 574us/step - loss: 1.3331 - acc: 0.5171 - val_loss: 1.2965 - val_acc: 0.5320\n",
      "Epoch 6/10\n",
      "50000/50000 [==============================] - 29s 579us/step - loss: 1.2754 - acc: 0.5420 - val_loss: 1.2628 - val_acc: 0.5455\n",
      "Epoch 7/10\n",
      "50000/50000 [==============================] - 29s 575us/step - loss: 1.2219 - acc: 0.5652 - val_loss: 1.2315 - val_acc: 0.5569\n",
      "Epoch 8/10\n",
      "50000/50000 [==============================] - 29s 573us/step - loss: 1.1741 - acc: 0.5829 - val_loss: 1.2695 - val_acc: 0.5385\n",
      "Epoch 9/10\n",
      "50000/50000 [==============================] - 29s 574us/step - loss: 1.1302 - acc: 0.6001 - val_loss: 1.1779 - val_acc: 0.5861\n",
      "Epoch 10/10\n",
      "50000/50000 [==============================] - 29s 574us/step - loss: 1.0942 - acc: 0.6132 - val_loss: 1.1417 - val_acc: 0.5967\n",
      "SqueezeNet Training Time\n",
      "Time (Seconds): 292.530462\n"
     ]
    }
   ],
   "source": [
    "start = datetime.datetime.now()\n",
    "model_squeezenet.fit(x_train, y_train,\n",
    "              batch_size=32,\n",
    "              epochs=10,\n",
    "              validation_data=(x_test, y_test),\n",
    "              shuffle=True)\n",
    "end = datetime.datetime.now()\n",
    "total = end - start\n",
    "print(\"SqueezeNet Training Time\")\n",
    "print(\"Time (Seconds): \" + str(total.total_seconds()))"
   ]
  },
  {
   "cell_type": "code",
   "execution_count": null,
   "metadata": {},
   "outputs": [],
   "source": []
  },
  {
   "cell_type": "code",
   "execution_count": 6,
   "metadata": {},
   "outputs": [],
   "source": [
    "from keras.preprocessing.image import ImageDataGenerator\n",
    "import os"
   ]
  },
  {
   "cell_type": "code",
   "execution_count": 7,
   "metadata": {},
   "outputs": [],
   "source": [
    "batch_size_train = 64\n",
    "batch_size_val = 64\n",
    "batch_size_test = 64\n",
    "num_classes= 4\n",
    "STANDARD_SIZE=(32,32)\n",
    "classes_required = os.listdir(\"./Data_Images_V2/Train/\")"
   ]
  },
  {
   "cell_type": "code",
   "execution_count": 11,
   "metadata": {},
   "outputs": [
    {
     "name": "stdout",
     "output_type": "stream",
     "text": [
      "Found 9712 images belonging to 41 classes.\n"
     ]
    }
   ],
   "source": [
    "train_path = './Data_Images_V2/Train/'\n",
    "train_batches = ImageDataGenerator().flow_from_directory(train_path, target_size=STANDARD_SIZE, classes=classes_required, batch_size=batch_size_train, shuffle=False)"
   ]
  },
  {
   "cell_type": "code",
   "execution_count": 12,
   "metadata": {},
   "outputs": [
    {
     "name": "stdout",
     "output_type": "stream",
     "text": [
      "Found 2355 images belonging to 41 classes.\n"
     ]
    }
   ],
   "source": [
    "val_path = './Data_Images_V2/Test/'\n",
    "val_batches = ImageDataGenerator().flow_from_directory(val_path, target_size=STANDARD_SIZE, classes=classes_required, batch_size=batch_size_val, shuffle=False)"
   ]
  },
  {
   "cell_type": "code",
   "execution_count": 18,
   "metadata": {},
   "outputs": [],
   "source": [
    "import datetime"
   ]
  },
  {
   "cell_type": "code",
   "execution_count": null,
   "metadata": {},
   "outputs": [],
   "source": []
  },
  {
   "cell_type": "code",
   "execution_count": 11,
   "metadata": {},
   "outputs": [],
   "source": [
    "from keras.callbacks import EarlyStopping, ModelCheckpoint, ReduceLROnPlateau"
   ]
  },
  {
   "cell_type": "code",
   "execution_count": 12,
   "metadata": {},
   "outputs": [],
   "source": [
    "callback_model = ModelCheckpoint(\"Trained-SqueezeNet-Model-Cry-Type-V4-10-23-2019-V4-4-Epoch {epoch:02d}--Train Acc {acc:.2f}--Val Acc {val_acc:.2f}.h5\", monitor='val_acc', save_weights_only=True, save_best_only=True, verbose=True)"
   ]
  },
  {
   "cell_type": "code",
   "execution_count": 13,
   "metadata": {},
   "outputs": [],
   "source": [
    "callback_early = EarlyStopping(monitor='val_acc', min_delta=0.001, patience=10, restore_best_weights=True, verbose=True)"
   ]
  },
  {
   "cell_type": "code",
   "execution_count": 14,
   "metadata": {},
   "outputs": [],
   "source": [
    "callback_reduce = ReduceLROnPlateau(patience=5, factor=0.2, min_lr=0.000001, verbose=True)"
   ]
  },
  {
   "cell_type": "code",
   "execution_count": null,
   "metadata": {},
   "outputs": [],
   "source": []
  },
  {
   "cell_type": "code",
   "execution_count": 15,
   "metadata": {
    "scrolled": true
   },
   "outputs": [
    {
     "name": "stderr",
     "output_type": "stream",
     "text": [
      "W1023 08:05:30.466220 140512190953280 deprecation.py:323] From /home/ec2-user/anaconda3/envs/tensorflow_p36/lib/python3.6/site-packages/tensorflow/python/ops/math_grad.py:1250: add_dispatch_support.<locals>.wrapper (from tensorflow.python.ops.array_ops) is deprecated and will be removed in a future version.\n",
      "Instructions for updating:\n",
      "Use tf.where in 2.0, which has the same broadcast rule as np.where\n"
     ]
    },
    {
     "name": "stdout",
     "output_type": "stream",
     "text": [
      "Epoch 1/500\n",
      "625/625 [==============================] - 148s 237ms/step - loss: 1.3156 - acc: 0.3418 - val_loss: 1.1742 - val_acc: 0.4622\n",
      "\n",
      "Epoch 00001: val_acc improved from -inf to 0.46224, saving model to Trained-SqueezeNet-Model-Cry-Type-V4-10-23-2019-V4-4-Epoch 01--Train Acc 0.34--Val Acc 0.46.h5\n",
      "Epoch 2/500\n",
      "625/625 [==============================] - 144s 230ms/step - loss: 1.0908 - acc: 0.5002 - val_loss: 1.0031 - val_acc: 0.5506\n",
      "\n",
      "Epoch 00002: val_acc improved from 0.46224 to 0.55059, saving model to Trained-SqueezeNet-Model-Cry-Type-V4-10-23-2019-V4-4-Epoch 02--Train Acc 0.50--Val Acc 0.55.h5\n",
      "Epoch 3/500\n",
      "625/625 [==============================] - 144s 230ms/step - loss: 0.9632 - acc: 0.5685 - val_loss: 0.9413 - val_acc: 0.5789\n",
      "\n",
      "Epoch 00003: val_acc improved from 0.55059 to 0.57890, saving model to Trained-SqueezeNet-Model-Cry-Type-V4-10-23-2019-V4-4-Epoch 03--Train Acc 0.57--Val Acc 0.58.h5\n",
      "Epoch 4/500\n",
      "625/625 [==============================] - 144s 230ms/step - loss: 0.8647 - acc: 0.6210 - val_loss: 0.8409 - val_acc: 0.6356\n",
      "\n",
      "Epoch 00004: val_acc improved from 0.57890 to 0.63558, saving model to Trained-SqueezeNet-Model-Cry-Type-V4-10-23-2019-V4-4-Epoch 04--Train Acc 0.62--Val Acc 0.64.h5\n",
      "Epoch 5/500\n",
      "625/625 [==============================] - 144s 230ms/step - loss: 0.7650 - acc: 0.6714 - val_loss: 0.7370 - val_acc: 0.6901\n",
      "\n",
      "Epoch 00005: val_acc improved from 0.63558 to 0.69006, saving model to Trained-SqueezeNet-Model-Cry-Type-V4-10-23-2019-V4-4-Epoch 05--Train Acc 0.67--Val Acc 0.69.h5\n",
      "Epoch 6/500\n",
      "625/625 [==============================] - 144s 230ms/step - loss: 0.6739 - acc: 0.7206 - val_loss: 0.6553 - val_acc: 0.7325\n",
      "\n",
      "Epoch 00006: val_acc improved from 0.69006 to 0.73247, saving model to Trained-SqueezeNet-Model-Cry-Type-V4-10-23-2019-V4-4-Epoch 06--Train Acc 0.72--Val Acc 0.73.h5\n",
      "Epoch 7/500\n",
      "625/625 [==============================] - 144s 231ms/step - loss: 0.5992 - acc: 0.7561 - val_loss: 0.6221 - val_acc: 0.7416\n",
      "\n",
      "Epoch 00007: val_acc improved from 0.73247 to 0.74158, saving model to Trained-SqueezeNet-Model-Cry-Type-V4-10-23-2019-V4-4-Epoch 07--Train Acc 0.76--Val Acc 0.74.h5\n",
      "Epoch 8/500\n",
      "625/625 [==============================] - 144s 230ms/step - loss: 0.5361 - acc: 0.7840 - val_loss: 0.5548 - val_acc: 0.7744\n",
      "\n",
      "Epoch 00008: val_acc improved from 0.74158 to 0.77444, saving model to Trained-SqueezeNet-Model-Cry-Type-V4-10-23-2019-V4-4-Epoch 08--Train Acc 0.78--Val Acc 0.77.h5\n",
      "Epoch 9/500\n",
      "625/625 [==============================] - 144s 231ms/step - loss: 0.4803 - acc: 0.8067 - val_loss: 0.5378 - val_acc: 0.7869\n",
      "\n",
      "Epoch 00009: val_acc improved from 0.77444 to 0.78693, saving model to Trained-SqueezeNet-Model-Cry-Type-V4-10-23-2019-V4-4-Epoch 09--Train Acc 0.81--Val Acc 0.79.h5\n",
      "Epoch 10/500\n",
      "625/625 [==============================] - 144s 230ms/step - loss: 0.4445 - acc: 0.8234 - val_loss: 0.5208 - val_acc: 0.7928\n",
      "\n",
      "Epoch 00010: val_acc improved from 0.78693 to 0.79278, saving model to Trained-SqueezeNet-Model-Cry-Type-V4-10-23-2019-V4-4-Epoch 10--Train Acc 0.82--Val Acc 0.79.h5\n",
      "Epoch 11/500\n",
      "625/625 [==============================] - 144s 230ms/step - loss: 0.4037 - acc: 0.8403 - val_loss: 0.4492 - val_acc: 0.8253\n",
      "\n",
      "Epoch 00011: val_acc improved from 0.79278 to 0.82534, saving model to Trained-SqueezeNet-Model-Cry-Type-V4-10-23-2019-V4-4-Epoch 11--Train Acc 0.84--Val Acc 0.83.h5\n",
      "Epoch 12/500\n",
      "625/625 [==============================] - 144s 230ms/step - loss: 0.3763 - acc: 0.8523 - val_loss: 0.4277 - val_acc: 0.8321\n",
      "\n",
      "Epoch 00012: val_acc improved from 0.82534 to 0.83209, saving model to Trained-SqueezeNet-Model-Cry-Type-V4-10-23-2019-V4-4-Epoch 12--Train Acc 0.85--Val Acc 0.83.h5\n",
      "Epoch 13/500\n",
      "625/625 [==============================] - 144s 230ms/step - loss: 0.3449 - acc: 0.8634 - val_loss: 0.4308 - val_acc: 0.8271\n",
      "\n",
      "Epoch 00013: val_acc did not improve from 0.83209\n",
      "Epoch 14/500\n",
      "625/625 [==============================] - 144s 230ms/step - loss: 0.3243 - acc: 0.8742 - val_loss: 0.4044 - val_acc: 0.8445\n",
      "\n",
      "Epoch 00014: val_acc improved from 0.83209 to 0.84450, saving model to Trained-SqueezeNet-Model-Cry-Type-V4-10-23-2019-V4-4-Epoch 14--Train Acc 0.87--Val Acc 0.84.h5\n",
      "Epoch 15/500\n",
      "625/625 [==============================] - 144s 231ms/step - loss: 0.2990 - acc: 0.8816 - val_loss: 0.4816 - val_acc: 0.8199\n",
      "\n",
      "Epoch 00015: val_acc did not improve from 0.84450\n",
      "Epoch 16/500\n",
      "625/625 [==============================] - 144s 230ms/step - loss: 0.2783 - acc: 0.8936 - val_loss: 0.4242 - val_acc: 0.8435\n",
      "\n",
      "Epoch 00016: val_acc did not improve from 0.84450\n",
      "Epoch 17/500\n",
      "625/625 [==============================] - 144s 231ms/step - loss: 0.2644 - acc: 0.8979 - val_loss: 0.3703 - val_acc: 0.8610\n",
      "\n",
      "Epoch 00017: val_acc improved from 0.84450 to 0.86096, saving model to Trained-SqueezeNet-Model-Cry-Type-V4-10-23-2019-V4-4-Epoch 17--Train Acc 0.90--Val Acc 0.86.h5\n",
      "Epoch 18/500\n",
      "625/625 [==============================] - 144s 230ms/step - loss: 0.2480 - acc: 0.9044 - val_loss: 0.3391 - val_acc: 0.8744\n",
      "\n",
      "Epoch 00018: val_acc improved from 0.86096 to 0.87437, saving model to Trained-SqueezeNet-Model-Cry-Type-V4-10-23-2019-V4-4-Epoch 18--Train Acc 0.90--Val Acc 0.87.h5\n",
      "Epoch 19/500\n",
      "625/625 [==============================] - 144s 231ms/step - loss: 0.2325 - acc: 0.9106 - val_loss: 0.4286 - val_acc: 0.8494\n",
      "\n",
      "Epoch 00019: val_acc did not improve from 0.87437\n",
      "Epoch 20/500\n",
      "625/625 [==============================] - 144s 231ms/step - loss: 0.2228 - acc: 0.9148 - val_loss: 0.3373 - val_acc: 0.8804\n",
      "\n",
      "Epoch 00020: val_acc improved from 0.87437 to 0.88035, saving model to Trained-SqueezeNet-Model-Cry-Type-V4-10-23-2019-V4-4-Epoch 20--Train Acc 0.91--Val Acc 0.88.h5\n",
      "Epoch 21/500\n",
      "625/625 [==============================] - 144s 230ms/step - loss: 0.2125 - acc: 0.9174 - val_loss: 0.3818 - val_acc: 0.8682\n",
      "\n",
      "Epoch 00021: val_acc did not improve from 0.88035\n",
      "Epoch 22/500\n",
      "625/625 [==============================] - 144s 230ms/step - loss: 0.1996 - acc: 0.9218 - val_loss: 0.3527 - val_acc: 0.8799\n",
      "\n",
      "Epoch 00022: val_acc did not improve from 0.88035\n",
      "Epoch 23/500\n",
      "625/625 [==============================] - 144s 230ms/step - loss: 0.1894 - acc: 0.9273 - val_loss: 0.3442 - val_acc: 0.8851\n",
      "\n",
      "Epoch 00023: val_acc improved from 0.88035 to 0.88512, saving model to Trained-SqueezeNet-Model-Cry-Type-V4-10-23-2019-V4-4-Epoch 23--Train Acc 0.93--Val Acc 0.89.h5\n",
      "Epoch 24/500\n",
      "625/625 [==============================] - 144s 230ms/step - loss: 0.1835 - acc: 0.9283 - val_loss: 0.3495 - val_acc: 0.8779\n",
      "\n",
      "Epoch 00024: val_acc did not improve from 0.88512\n",
      "Epoch 25/500\n",
      "625/625 [==============================] - 144s 231ms/step - loss: 0.1753 - acc: 0.9322 - val_loss: 0.4046 - val_acc: 0.8697\n",
      "\n",
      "Epoch 00025: val_acc did not improve from 0.88512\n",
      "\n",
      "Epoch 00025: ReduceLROnPlateau reducing learning rate to 1.9999999494757503e-05.\n",
      "Epoch 26/500\n",
      "625/625 [==============================] - 144s 230ms/step - loss: 0.1108 - acc: 0.9585 - val_loss: 0.3118 - val_acc: 0.9034\n",
      "\n",
      "Epoch 00026: val_acc improved from 0.88512 to 0.90344, saving model to Trained-SqueezeNet-Model-Cry-Type-V4-10-23-2019-V4-4-Epoch 26--Train Acc 0.96--Val Acc 0.90.h5\n",
      "Epoch 27/500\n",
      "625/625 [==============================] - 144s 230ms/step - loss: 0.1000 - acc: 0.9627 - val_loss: 0.3171 - val_acc: 0.9052\n",
      "\n",
      "Epoch 00027: val_acc improved from 0.90344 to 0.90517, saving model to Trained-SqueezeNet-Model-Cry-Type-V4-10-23-2019-V4-4-Epoch 27--Train Acc 0.96--Val Acc 0.91.h5\n",
      "Epoch 28/500\n",
      "625/625 [==============================] - 144s 230ms/step - loss: 0.0939 - acc: 0.9639 - val_loss: 0.3371 - val_acc: 0.9031\n",
      "\n",
      "Epoch 00028: val_acc did not improve from 0.90517\n",
      "Epoch 29/500\n",
      "625/625 [==============================] - 144s 230ms/step - loss: 0.0908 - acc: 0.9661 - val_loss: 0.3386 - val_acc: 0.9031\n",
      "\n",
      "Epoch 00029: val_acc did not improve from 0.90517\n",
      "Epoch 30/500\n",
      "625/625 [==============================] - 144s 230ms/step - loss: 0.0881 - acc: 0.9666 - val_loss: 0.3419 - val_acc: 0.9067\n",
      "\n",
      "Epoch 00030: val_acc improved from 0.90517 to 0.90670, saving model to Trained-SqueezeNet-Model-Cry-Type-V4-10-23-2019-V4-4-Epoch 30--Train Acc 0.97--Val Acc 0.91.h5\n",
      "Epoch 31/500\n",
      "625/625 [==============================] - 144s 230ms/step - loss: 0.0836 - acc: 0.9683 - val_loss: 0.3593 - val_acc: 0.9049\n"
     ]
    },
    {
     "name": "stdout",
     "output_type": "stream",
     "text": [
      "\n",
      "Epoch 00031: val_acc did not improve from 0.90670\n",
      "\n",
      "Epoch 00031: ReduceLROnPlateau reducing learning rate to 3.999999898951501e-06.\n",
      "Epoch 32/500\n",
      "625/625 [==============================] - 144s 230ms/step - loss: 0.0697 - acc: 0.9748 - val_loss: 0.3555 - val_acc: 0.9071\n",
      "\n",
      "Epoch 00032: val_acc improved from 0.90670 to 0.90710, saving model to Trained-SqueezeNet-Model-Cry-Type-V4-10-23-2019-V4-4-Epoch 32--Train Acc 0.97--Val Acc 0.91.h5\n",
      "Epoch 33/500\n",
      "625/625 [==============================] - 144s 230ms/step - loss: 0.0667 - acc: 0.9755 - val_loss: 0.3717 - val_acc: 0.9050\n",
      "\n",
      "Epoch 00033: val_acc did not improve from 0.90710\n",
      "Epoch 34/500\n",
      "625/625 [==============================] - 144s 230ms/step - loss: 0.0651 - acc: 0.9762 - val_loss: 0.3682 - val_acc: 0.9059\n",
      "\n",
      "Epoch 00034: val_acc did not improve from 0.90710\n",
      "Epoch 35/500\n",
      "625/625 [==============================] - 144s 231ms/step - loss: 0.0640 - acc: 0.9770 - val_loss: 0.3792 - val_acc: 0.9059\n",
      "\n",
      "Epoch 00035: val_acc did not improve from 0.90710\n",
      "Epoch 36/500\n",
      "625/625 [==============================] - 144s 230ms/step - loss: 0.0631 - acc: 0.9774 - val_loss: 0.3840 - val_acc: 0.9062\n",
      "\n",
      "Epoch 00036: val_acc did not improve from 0.90710\n",
      "\n",
      "Epoch 00036: ReduceLROnPlateau reducing learning rate to 1e-06.\n",
      "Epoch 37/500\n",
      "625/625 [==============================] - 144s 231ms/step - loss: 0.0600 - acc: 0.9790 - val_loss: 0.3892 - val_acc: 0.9047\n",
      "\n",
      "Epoch 00037: val_acc did not improve from 0.90710\n",
      "Epoch 38/500\n",
      "625/625 [==============================] - 144s 231ms/step - loss: 0.0591 - acc: 0.9795 - val_loss: 0.3836 - val_acc: 0.9064\n",
      "\n",
      "Epoch 00038: val_acc did not improve from 0.90710\n",
      "Epoch 39/500\n",
      "625/625 [==============================] - 144s 230ms/step - loss: 0.0587 - acc: 0.9793 - val_loss: 0.3913 - val_acc: 0.9058\n",
      "\n",
      "Epoch 00039: val_acc did not improve from 0.90710\n",
      "Epoch 40/500\n",
      "625/625 [==============================] - 144s 230ms/step - loss: 0.0585 - acc: 0.9792 - val_loss: 0.3957 - val_acc: 0.9047\n",
      "Restoring model weights from the end of the best epoch\n",
      "\n",
      "Epoch 00040: val_acc did not improve from 0.90710\n",
      "Epoch 00040: early stopping\n"
     ]
    }
   ],
   "source": [
    "history = model_squeezenet.fit_generator(train_batches, \n",
    "                             epochs=500, \n",
    "                             steps_per_epoch=40000//64, \n",
    "                             validation_data=val_batches, \n",
    "                             validation_steps=40000//64,\n",
    "                             callbacks=[callback_early,callback_model,callback_reduce])"
   ]
  },
  {
   "cell_type": "code",
   "execution_count": 16,
   "metadata": {},
   "outputs": [],
   "source": [
    "model_squeezenet.save('Trained-SqueezeNet-Model-Cry-Type-V4-102319-4-00.h5')"
   ]
  },
  {
   "cell_type": "code",
   "execution_count": 17,
   "metadata": {},
   "outputs": [],
   "source": [
    "model_squeezenet.save_weights('Trained-SqueezeNet-Model-Cry-Type-V4-102319-4-00-Weights.h5')"
   ]
  },
  {
   "cell_type": "code",
   "execution_count": null,
   "metadata": {},
   "outputs": [],
   "source": []
  },
  {
   "cell_type": "code",
   "execution_count": 18,
   "metadata": {},
   "outputs": [
    {
     "data": {
      "text/plain": [
       "[0.341775,\n",
       " 0.500225,\n",
       " 0.56855,\n",
       " 0.62105,\n",
       " 0.671425,\n",
       " 0.720575,\n",
       " 0.756075,\n",
       " 0.78395,\n",
       " 0.8067,\n",
       " 0.82335,\n",
       " 0.840275,\n",
       " 0.85225,\n",
       " 0.8634,\n",
       " 0.874225,\n",
       " 0.881575,\n",
       " 0.893575,\n",
       " 0.8979,\n",
       " 0.904375,\n",
       " 0.910625,\n",
       " 0.914775,\n",
       " 0.917425,\n",
       " 0.921825,\n",
       " 0.9273,\n",
       " 0.9283,\n",
       " 0.932225,\n",
       " 0.958525,\n",
       " 0.96275,\n",
       " 0.96395,\n",
       " 0.966075,\n",
       " 0.966625,\n",
       " 0.968325,\n",
       " 0.97485,\n",
       " 0.9755,\n",
       " 0.976225,\n",
       " 0.977,\n",
       " 0.977375,\n",
       " 0.979,\n",
       " 0.979475,\n",
       " 0.979275,\n",
       " 0.979225]"
      ]
     },
     "execution_count": 18,
     "metadata": {},
     "output_type": "execute_result"
    }
   ],
   "source": [
    "history.history['acc']"
   ]
  },
  {
   "cell_type": "code",
   "execution_count": 19,
   "metadata": {},
   "outputs": [
    {
     "data": {
      "text/plain": [
       "[0.4622390606182256,\n",
       " 0.550592845659164,\n",
       " 0.5789037379421221,\n",
       " 0.6355757636655949,\n",
       " 0.6900622990353698,\n",
       " 0.7324658360128617,\n",
       " 0.7415846061093248,\n",
       " 0.7744423231511254,\n",
       " 0.7869272508038585,\n",
       " 0.792780345659164,\n",
       " 0.825336615755627,\n",
       " 0.8320940514469454,\n",
       " 0.8271452974276527,\n",
       " 0.844503617363344,\n",
       " 0.8198854501607717,\n",
       " 0.8434987942122186,\n",
       " 0.8609575964630225,\n",
       " 0.8743719855305466,\n",
       " 0.8493518890675241,\n",
       " 0.8803506832797428,\n",
       " 0.8681923231511254,\n",
       " 0.8798985128617364,\n",
       " 0.8851235932475884,\n",
       " 0.8778637459807074,\n",
       " 0.8696995578778135,\n",
       " 0.9034364951768489,\n",
       " 0.9051698151125402,\n",
       " 0.903084807073955,\n",
       " 0.9031350482315113,\n",
       " 0.9067021704180064,\n",
       " 0.904943729903537,\n",
       " 0.9071040996784566,\n",
       " 0.9050442122186495,\n",
       " 0.9059485530546624,\n",
       " 0.9059485530546624,\n",
       " 0.9062248794212219,\n",
       " 0.9047427652733119,\n",
       " 0.9063504823151125,\n",
       " 0.9057978295819936,\n",
       " 0.9046925241157556]"
      ]
     },
     "execution_count": 19,
     "metadata": {},
     "output_type": "execute_result"
    }
   ],
   "source": [
    "history.history['val_acc']"
   ]
  },
  {
   "cell_type": "code",
   "execution_count": 20,
   "metadata": {},
   "outputs": [
    {
     "data": {
      "text/plain": [
       "[1.3156091764450073,\n",
       " 1.0908302416801452,\n",
       " 0.9631852622032165,\n",
       " 0.864743529510498,\n",
       " 0.7650150802612304,\n",
       " 0.6739423137187958,\n",
       " 0.5991565375328064,\n",
       " 0.536084216451645,\n",
       " 0.48027038214206696,\n",
       " 0.4444836248397827,\n",
       " 0.4036962777853012,\n",
       " 0.37628350772857666,\n",
       " 0.34486953921318053,\n",
       " 0.3242788116693497,\n",
       " 0.299006345307827,\n",
       " 0.2782720514774322,\n",
       " 0.2643942326545715,\n",
       " 0.24802061142921447,\n",
       " 0.23246498898267745,\n",
       " 0.2227619743824005,\n",
       " 0.21250625443458557,\n",
       " 0.19955695568323134,\n",
       " 0.18938143873810767,\n",
       " 0.18348395615145563,\n",
       " 0.1752744478881359,\n",
       " 0.11082382608503104,\n",
       " 0.10003448382094503,\n",
       " 0.09385960463583469,\n",
       " 0.09077682897597551,\n",
       " 0.08806954971700907,\n",
       " 0.08356898931637406,\n",
       " 0.06973052166290582,\n",
       " 0.06673525994140654,\n",
       " 0.06505939508602022,\n",
       " 0.06400273443330079,\n",
       " 0.06307263783048839,\n",
       " 0.06001804058291018,\n",
       " 0.05907270613759756,\n",
       " 0.058745308811590076,\n",
       " 0.05850002794265747]"
      ]
     },
     "execution_count": 20,
     "metadata": {},
     "output_type": "execute_result"
    }
   ],
   "source": [
    "history.history['loss']"
   ]
  },
  {
   "cell_type": "code",
   "execution_count": 21,
   "metadata": {},
   "outputs": [
    {
     "data": {
      "text/plain": [
       "[1.1742292190832768,\n",
       " 1.0030512911570033,\n",
       " 0.9413177136008379,\n",
       " 0.8408704813318237,\n",
       " 0.7370071976394706,\n",
       " 0.6553152533445711,\n",
       " 0.6220672769753496,\n",
       " 0.5547646164918061,\n",
       " 0.5377740444393883,\n",
       " 0.5208130820962777,\n",
       " 0.44924722563990444,\n",
       " 0.42771244143402365,\n",
       " 0.430768684115728,\n",
       " 0.40443418606205384,\n",
       " 0.4815788711645787,\n",
       " 0.4242383440974441,\n",
       " 0.3703155751636557,\n",
       " 0.33906845473220204,\n",
       " 0.4285807522519872,\n",
       " 0.3373397922508682,\n",
       " 0.38183693161348053,\n",
       " 0.352686696766705,\n",
       " 0.344249970294607,\n",
       " 0.3495272462139463,\n",
       " 0.40456240717621095,\n",
       " 0.3118264293897047,\n",
       " 0.31713356931321024,\n",
       " 0.33710368114257444,\n",
       " 0.3385840448344252,\n",
       " 0.341864217965118,\n",
       " 0.3593007434886458,\n",
       " 0.355508881360532,\n",
       " 0.37172578892934843,\n",
       " 0.36822069853518874,\n",
       " 0.3792180263428347,\n",
       " 0.3840288109553325,\n",
       " 0.38918674536718545,\n",
       " 0.3836245124896096,\n",
       " 0.3913218158490393,\n",
       " 0.3956983807710841]"
      ]
     },
     "execution_count": 21,
     "metadata": {},
     "output_type": "execute_result"
    }
   ],
   "source": [
    "history.history['val_loss']"
   ]
  },
  {
   "cell_type": "code",
   "execution_count": null,
   "metadata": {},
   "outputs": [],
   "source": []
  },
  {
   "cell_type": "code",
   "execution_count": 10,
   "metadata": {},
   "outputs": [],
   "source": [
    "from sklearn.metrics import confusion_matrix, classification_report, accuracy_score\n",
    "import numpy as np"
   ]
  },
  {
   "cell_type": "code",
   "execution_count": 21,
   "metadata": {},
   "outputs": [
    {
     "name": "stdout",
     "output_type": "stream",
     "text": [
      "Found 6000 images belonging to 4 classes.\n"
     ]
    }
   ],
   "source": [
    "val_path = '../Desktop/School/PD/donateacry-corpus-master/Testing/Cry Types/Data V4/Data_Images/Test'\n",
    "val_batches = ImageDataGenerator().flow_from_directory(val_path, target_size=STANDARD_SIZE, classes=classes_required, batch_size=batch_size_val, shuffle=False)"
   ]
  },
  {
   "cell_type": "code",
   "execution_count": 22,
   "metadata": {},
   "outputs": [],
   "source": [
    "val_batches.reset()"
   ]
  },
  {
   "cell_type": "code",
   "execution_count": 23,
   "metadata": {},
   "outputs": [
    {
     "data": {
      "text/plain": [
       "6000"
      ]
     },
     "execution_count": 23,
     "metadata": {},
     "output_type": "execute_result"
    }
   ],
   "source": [
    "len(val_batches.classes)"
   ]
  },
  {
   "cell_type": "code",
   "execution_count": 20,
   "metadata": {},
   "outputs": [
    {
     "name": "stdout",
     "output_type": "stream",
     "text": [
      "152/152 [==============================] - 379s 2s/step\n",
      "Accuracy Score\n",
      "0.054880560131795715\n",
      "Confusion Matrix\n",
      "[[1 0 0 ... 0 0 1]\n",
      " [0 0 0 ... 0 0 0]\n",
      " [0 0 0 ... 0 0 0]\n",
      " ...\n",
      " [0 0 0 ... 0 0 0]\n",
      " [0 0 0 ... 0 0 0]\n",
      " [0 0 0 ... 0 0 0]]\n",
      "Classification Report\n",
      "              precision    recall  f1-score   support\n",
      "\n",
      "         ang       0.00      0.00      0.00       246\n",
      "         ano       0.00      0.00      0.00       177\n",
      "        basa       0.00      0.00      0.00       171\n",
      "       buwan       0.99      0.81      0.89       204\n",
      "        dito       0.00      0.00      0.00       173\n",
      "       hindi       0.00      0.00      0.00       274\n",
      "        ikaw       0.00      0.00      0.00       220\n",
      "       isang       0.00      0.00      0.00       192\n",
      "        iyon       0.00      0.00      0.00       169\n",
      "          ka       0.00      0.00      0.00       264\n",
      "      kailan       0.00      0.00      0.00       165\n",
      "        kaya       0.00      0.00      0.00       229\n",
      "          ko       0.00      0.00      0.00       202\n",
      "        kung       0.00      0.00      0.00       221\n",
      "        lang       0.00      0.00      0.00       276\n",
      "     maganda       0.00      0.00      0.00       173\n",
      "         may       0.00      0.00      0.00       343\n",
      "          na       0.00      0.00      0.00       602\n",
      "       naman       0.00      0.00      0.00       185\n",
      "        nang       0.00      0.00      0.00       205\n",
      "        nasa       0.00      0.00      0.00       177\n",
      "      ngayon       0.00      0.00      0.00       229\n",
      "          ni       0.00      0.00      0.00       350\n",
      "        nung       0.00      0.00      0.00       172\n",
      "     pamilya       0.00      0.00      0.00       168\n",
      "        pang       0.00      0.00      0.00       175\n",
      "        para       0.96      0.88      0.92       209\n",
      "        pero       0.00      0.00      0.00       177\n",
      "          po       0.00      0.00      0.00       287\n",
      "          sa       0.00      0.00      0.00       656\n",
      "        saan       0.00      0.00      0.00       168\n",
      "        sila       0.00      0.00      0.00       192\n",
      "        siya       0.00      0.00      0.00       298\n",
      "        tama       0.00      0.00      0.00       162\n",
      "         tao       0.00      0.00      0.00       255\n",
      "       tapos       0.00      0.00      0.00       165\n",
      "        tayo       0.00      0.00      0.00       261\n",
      "        tula       0.90      0.81      0.85       225\n",
      "        wala       0.00      0.00      0.00       209\n",
      "         yan       0.00      0.00      0.00       282\n",
      "        yung       0.00      0.00      0.00       204\n",
      "\n",
      "    accuracy                           0.05      9712\n",
      "   macro avg       0.07      0.06      0.07      9712\n",
      "weighted avg       0.06      0.05      0.06      9712\n",
      "\n"
     ]
    }
   ],
   "source": [
    "#Confution Matrix and Classification Report\n",
    "Y_pred = model_squeezenet.predict_generator(train_batches, 152,verbose=1)\n",
    "y_pred = np.argmax(Y_pred, axis=1)\n",
    "print('Accuracy Score')\n",
    "print(accuracy_score(train_batches.classes, y_pred))\n",
    "print('Confusion Matrix')\n",
    "print(confusion_matrix(train_batches.classes, y_pred))\n",
    "print('Classification Report')\n",
    "print(classification_report(train_batches.classes, y_pred, target_names=classes_required))"
   ]
  },
  {
   "cell_type": "code",
   "execution_count": 12,
   "metadata": {},
   "outputs": [],
   "source": [
    "matrix = confusion_matrix(val_batches.classes, y_pred)"
   ]
  },
  {
   "cell_type": "code",
   "execution_count": 13,
   "metadata": {},
   "outputs": [],
   "source": [
    "import matplotlib.pyplot as plt\n",
    "import seaborn as sns"
   ]
  },
  {
   "cell_type": "code",
   "execution_count": 14,
   "metadata": {},
   "outputs": [
    {
     "data": {
      "image/png": "[encoded data removed]",
      "text/plain": [
       "<Figure size 432x288 with 2 Axes>"
      ]
     },
     "metadata": {
      "needs_background": "light"
     },
     "output_type": "display_data"
    }
   ],
   "source": [
    "ax = sns.heatmap(matrix, annot=True, fmt='d', cmap=\"Blues\")\n",
    "ax.invert_yaxis()\n",
    "plt.title(\"Confusion Matrix (SqueezeNet)\", pad=20, fontsize=24, fontweight=\"bold\")\n",
    "plt.xlabel(\"Predicted Class\", fontsize=16, fontweight=\"bold\")\n",
    "plt.ylabel(\"Actual Class\", fontsize=16, fontweight=\"bold\")\n",
    "plt.xticks([i for i in range(0, 4, 1)], ['Discomfort', 'Hungry', \n",
    "                                         'Tired', 'Other'], rotation=45)\n",
    "plt.yticks([i for i in range(0, 4, 1)], ['Discomfort', 'Hungry', \n",
    "                                         'Tired', 'Other'], rotation=\"horizontal\")\n",
    "plt.tight_layout()\n",
    "plt.show()"
   ]
  },
  {
   "cell_type": "code",
   "execution_count": null,
   "metadata": {},
   "outputs": [],
   "source": []
  },
  {
   "cell_type": "code",
   "execution_count": 22,
   "metadata": {},
   "outputs": [],
   "source": [
    "import matplotlib.pyplot as plt\n",
    "%matplotlib inline"
   ]
  },
  {
   "cell_type": "code",
   "execution_count": null,
   "metadata": {},
   "outputs": [],
   "source": [
    "# Plot training & validation accuracy values\n",
    "plt.plot(history.history['acc'])\n",
    "plt.plot(history.history['val_acc'])\n",
    "plt.title('Model accuracy')\n",
    "plt.ylabel('Accuracy')\n",
    "plt.xlabel('Epoch')\n",
    "plt.legend(['Train', 'Test'], loc='upper left')\n",
    "plt.show()"
   ]
  },
  {
   "cell_type": "code",
   "execution_count": 6,
   "metadata": {},
   "outputs": [
    {
     "data": {
      "image/png": "[encoded data removed]",
      "text/plain": [
       "<Figure size 432x288 with 1 Axes>"
      ]
     },
     "metadata": {},
     "output_type": "display_data"
    }
   ],
   "source": [
    "# Plot training & validation loss values\n",
    "plt.plot(loss)\n",
    "plt.plot(val_loss)\n",
    "plt.title('Model loss')\n",
    "plt.ylabel('Loss')\n",
    "plt.xlabel('Epoch')\n",
    "plt.legend(['Train', 'Test'], loc='upper left')\n",
    "plt.show()"
   ]
  },
  {
   "cell_type": "code",
   "execution_count": 40,
   "metadata": {},
   "outputs": [],
   "source": [
    "from sklearn.metrics import confusion_matrix, classification_report, accuracy_score\n",
    "import numpy as np"
   ]
  },
  {
   "cell_type": "code",
   "execution_count": 28,
   "metadata": {},
   "outputs": [
    {
     "name": "stdout",
     "output_type": "stream",
     "text": [
      "Found 4000 images belonging to 4 classes.\n"
     ]
    }
   ],
   "source": [
    "val_path = '../../Data/V3/Test/'\n",
    "val_batches = ImageDataGenerator().flow_from_directory(val_path, target_size=STANDARD_SIZE, classes=classes_required, batch_size=batch_size_val, shuffle=False)"
   ]
  },
  {
   "cell_type": "code",
   "execution_count": null,
   "metadata": {},
   "outputs": [],
   "source": [
    "val_batches.reset()"
   ]
  },
  {
   "cell_type": "code",
   "execution_count": 55,
   "metadata": {},
   "outputs": [
    {
     "name": "stdout",
     "output_type": "stream",
     "text": [
      "125/125 [==============================] - 7s 58ms/step\n",
      "Accuracy Score\n",
      "0.90875\n",
      "Confusion Matrix\n",
      "[[908  47  30  15]\n",
      " [ 34 822  93  51]\n",
      " [  8  29 948  15]\n",
      " [  8  17  18 957]]\n",
      "Classification Report\n",
      "              precision    recall  f1-score   support\n",
      "\n",
      "  discomfort       0.95      0.91      0.93      1000\n",
      "      hungry       0.90      0.82      0.86      1000\n",
      "       tired       0.87      0.95      0.91      1000\n",
      "       other       0.92      0.96      0.94      1000\n",
      "\n",
      "    accuracy                           0.91      4000\n",
      "   macro avg       0.91      0.91      0.91      4000\n",
      "weighted avg       0.91      0.91      0.91      4000\n",
      "\n"
     ]
    }
   ],
   "source": [
    "#Confution Matrix and Classification Report\n",
    "Y_pred = model_squeezenet.predict_generator(val_batches, 125,verbose=1)\n",
    "y_pred = np.argmax(Y_pred, axis=1)\n",
    "print('Accuracy Score')\n",
    "print(accuracy_score(val_batches.classes, y_pred))\n",
    "print('Confusion Matrix')\n",
    "print(confusion_matrix(val_batches.classes, y_pred))\n",
    "print('Classification Report')\n",
    "print(classification_report(val_batches.classes, y_pred, target_names=classes_required))"
   ]
  },
  {
   "cell_type": "code",
   "execution_count": null,
   "metadata": {},
   "outputs": [],
   "source": []
  },
  {
   "cell_type": "code",
   "execution_count": null,
   "metadata": {},
   "outputs": [],
   "source": [
    "y_pred = model_squeezenet.predict(x_test)"
   ]
  },
  {
   "cell_type": "code",
   "execution_count": null,
   "metadata": {},
   "outputs": [],
   "source": [
    "from sklearn.metrics import confusion_matrix, accuracy_score"
   ]
  },
  {
   "cell_type": "code",
   "execution_count": null,
   "metadata": {},
   "outputs": [],
   "source": [
    "confusion_matrix(y_test.argmax(axis=1), y_pred.argmax(axis=1))"
   ]
  },
  {
   "cell_type": "code",
   "execution_count": null,
   "metadata": {},
   "outputs": [],
   "source": [
    "accuracy_score(y_test.argmax(axis=1), y_pred.argmax(axis=1))"
   ]
  },
  {
   "cell_type": "code",
   "execution_count": 7,
   "metadata": {},
   "outputs": [],
   "source": [
    "loss, acc = model_squeezenet.evaluate_generator(val_batches, steps=500)"
   ]
  },
  {
   "cell_type": "code",
   "execution_count": 8,
   "metadata": {},
   "outputs": [
    {
     "data": {
      "text/plain": [
       "0.7477443608723786"
      ]
     },
     "execution_count": 8,
     "metadata": {},
     "output_type": "execute_result"
    }
   ],
   "source": [
    "acc"
   ]
  }
 ],
 "metadata": {
  "kernelspec": {
   "display_name": "Python 3",
   "language": "python",
   "name": "python3"
  },
  "language_info": {
   "codemirror_mode": {
    "name": "ipython",
    "version": 3
   },
   "file_extension": ".py",
   "mimetype": "text/x-python",
   "name": "python",
   "nbconvert_exporter": "python",
   "pygments_lexer": "ipython3",
   "version": "3.6.8"
  }
 },
 "nbformat": 4,
 "nbformat_minor": 2
}

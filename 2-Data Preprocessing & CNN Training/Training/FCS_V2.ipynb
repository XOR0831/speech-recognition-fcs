{
 "cells": [
  {
   "cell_type": "markdown",
   "metadata": {},
   "source": [
    "# CNN Model"
   ]
  },
  {
   "cell_type": "code",
   "execution_count": 4,
   "metadata": {},
   "outputs": [
    {
     "name": "stderr",
     "output_type": "stream",
     "text": [
      "Using TensorFlow backend.\n"
     ]
    }
   ],
   "source": [
    "# import pre-built CNN architecture\n",
    "from squeezenet_softmax import SqueezeNet"
   ]
  },
  {
   "cell_type": "code",
   "execution_count": 5,
   "metadata": {},
   "outputs": [
    {
     "name": "stdout",
     "output_type": "stream",
     "text": [
      "WARNING:tensorflow:From C:\\Users\\soria\\Anaconda3\\envs\\DL\\lib\\site-packages\\tensorflow\\python\\framework\\op_def_library.py:263: colocate_with (from tensorflow.python.framework.ops) is deprecated and will be removed in a future version.\n",
      "Instructions for updating:\n",
      "Colocations handled automatically by placer.\n",
      "WARNING:tensorflow:From C:\\Users\\soria\\Anaconda3\\envs\\DL\\lib\\site-packages\\keras\\backend\\tensorflow_backend.py:3445: calling dropout (from tensorflow.python.ops.nn_ops) with keep_prob is deprecated and will be removed in a future version.\n",
      "Instructions for updating:\n",
      "Please use `rate` instead of `keep_prob`. Rate should be set to `rate = 1 - keep_prob`.\n"
     ]
    }
   ],
   "source": [
    "# Initialize SqueezeNet Architecture\n",
    "## Input Shape 32x32 pixels 3 channels (R,G,B)\n",
    "## Classes 41 Tagalog words\n",
    "## Pooling layer set to max pooling\n",
    "model_squeezenet = SqueezeNet(input_shape=(32,32,3), classes=41, pooling='max')"
   ]
  },
  {
   "cell_type": "code",
   "execution_count": 3,
   "metadata": {},
   "outputs": [
    {
     "data": {
      "text/plain": [
       "67"
      ]
     },
     "execution_count": 3,
     "metadata": {},
     "output_type": "execute_result"
    }
   ],
   "source": [
    "# Number of layers in SqueezeNet\n",
    "len(model_squeezenet.layers)"
   ]
  },
  {
   "cell_type": "code",
   "execution_count": 4,
   "metadata": {},
   "outputs": [
    {
     "name": "stdout",
     "output_type": "stream",
     "text": [
      "__________________________________________________________________________________________________\n",
      "Layer (type)                    Output Shape         Param #     Connected to                     \n",
      "==================================================================================================\n",
      "input_1 (InputLayer)            (None, 32, 32, 3)    0                                            \n",
      "__________________________________________________________________________________________________\n",
      "conv1 (Conv2D)                  (None, 15, 15, 64)   1792        input_1[0][0]                    \n",
      "__________________________________________________________________________________________________\n",
      "relu_conv1 (Activation)         (None, 15, 15, 64)   0           conv1[0][0]                      \n",
      "__________________________________________________________________________________________________\n",
      "pool1 (MaxPooling2D)            (None, 7, 7, 64)     0           relu_conv1[0][0]                 \n",
      "__________________________________________________________________________________________________\n",
      "fire2/squeeze1x1 (Conv2D)       (None, 7, 7, 16)     1040        pool1[0][0]                      \n",
      "__________________________________________________________________________________________________\n",
      "fire2/relu_squeeze1x1 (Activati (None, 7, 7, 16)     0           fire2/squeeze1x1[0][0]           \n",
      "__________________________________________________________________________________________________\n",
      "fire2/expand1x1 (Conv2D)        (None, 7, 7, 64)     1088        fire2/relu_squeeze1x1[0][0]      \n",
      "__________________________________________________________________________________________________\n",
      "fire2/expand3x3 (Conv2D)        (None, 7, 7, 64)     9280        fire2/relu_squeeze1x1[0][0]      \n",
      "__________________________________________________________________________________________________\n",
      "fire2/relu_expand1x1 (Activatio (None, 7, 7, 64)     0           fire2/expand1x1[0][0]            \n",
      "__________________________________________________________________________________________________\n",
      "fire2/relu_expand3x3 (Activatio (None, 7, 7, 64)     0           fire2/expand3x3[0][0]            \n",
      "__________________________________________________________________________________________________\n",
      "fire2/concat (Concatenate)      (None, 7, 7, 128)    0           fire2/relu_expand1x1[0][0]       \n",
      "                                                                 fire2/relu_expand3x3[0][0]       \n",
      "__________________________________________________________________________________________________\n",
      "fire3/squeeze1x1 (Conv2D)       (None, 7, 7, 16)     2064        fire2/concat[0][0]               \n",
      "__________________________________________________________________________________________________\n",
      "fire3/relu_squeeze1x1 (Activati (None, 7, 7, 16)     0           fire3/squeeze1x1[0][0]           \n",
      "__________________________________________________________________________________________________\n",
      "fire3/expand1x1 (Conv2D)        (None, 7, 7, 64)     1088        fire3/relu_squeeze1x1[0][0]      \n",
      "__________________________________________________________________________________________________\n",
      "fire3/expand3x3 (Conv2D)        (None, 7, 7, 64)     9280        fire3/relu_squeeze1x1[0][0]      \n",
      "__________________________________________________________________________________________________\n",
      "fire3/relu_expand1x1 (Activatio (None, 7, 7, 64)     0           fire3/expand1x1[0][0]            \n",
      "__________________________________________________________________________________________________\n",
      "fire3/relu_expand3x3 (Activatio (None, 7, 7, 64)     0           fire3/expand3x3[0][0]            \n",
      "__________________________________________________________________________________________________\n",
      "fire3/concat (Concatenate)      (None, 7, 7, 128)    0           fire3/relu_expand1x1[0][0]       \n",
      "                                                                 fire3/relu_expand3x3[0][0]       \n",
      "__________________________________________________________________________________________________\n",
      "pool3 (MaxPooling2D)            (None, 3, 3, 128)    0           fire3/concat[0][0]               \n",
      "__________________________________________________________________________________________________\n",
      "fire4/squeeze1x1 (Conv2D)       (None, 3, 3, 32)     4128        pool3[0][0]                      \n",
      "__________________________________________________________________________________________________\n",
      "fire4/relu_squeeze1x1 (Activati (None, 3, 3, 32)     0           fire4/squeeze1x1[0][0]           \n",
      "__________________________________________________________________________________________________\n",
      "fire4/expand1x1 (Conv2D)        (None, 3, 3, 128)    4224        fire4/relu_squeeze1x1[0][0]      \n",
      "__________________________________________________________________________________________________\n",
      "fire4/expand3x3 (Conv2D)        (None, 3, 3, 128)    36992       fire4/relu_squeeze1x1[0][0]      \n",
      "__________________________________________________________________________________________________\n",
      "fire4/relu_expand1x1 (Activatio (None, 3, 3, 128)    0           fire4/expand1x1[0][0]            \n",
      "__________________________________________________________________________________________________\n",
      "fire4/relu_expand3x3 (Activatio (None, 3, 3, 128)    0           fire4/expand3x3[0][0]            \n",
      "__________________________________________________________________________________________________\n",
      "fire4/concat (Concatenate)      (None, 3, 3, 256)    0           fire4/relu_expand1x1[0][0]       \n",
      "                                                                 fire4/relu_expand3x3[0][0]       \n",
      "__________________________________________________________________________________________________\n",
      "fire5/squeeze1x1 (Conv2D)       (None, 3, 3, 32)     8224        fire4/concat[0][0]               \n",
      "__________________________________________________________________________________________________\n",
      "fire5/relu_squeeze1x1 (Activati (None, 3, 3, 32)     0           fire5/squeeze1x1[0][0]           \n",
      "__________________________________________________________________________________________________\n",
      "fire5/expand1x1 (Conv2D)        (None, 3, 3, 128)    4224        fire5/relu_squeeze1x1[0][0]      \n",
      "__________________________________________________________________________________________________\n",
      "fire5/expand3x3 (Conv2D)        (None, 3, 3, 128)    36992       fire5/relu_squeeze1x1[0][0]      \n",
      "__________________________________________________________________________________________________\n",
      "fire5/relu_expand1x1 (Activatio (None, 3, 3, 128)    0           fire5/expand1x1[0][0]            \n",
      "__________________________________________________________________________________________________\n",
      "fire5/relu_expand3x3 (Activatio (None, 3, 3, 128)    0           fire5/expand3x3[0][0]            \n",
      "__________________________________________________________________________________________________\n",
      "fire5/concat (Concatenate)      (None, 3, 3, 256)    0           fire5/relu_expand1x1[0][0]       \n",
      "                                                                 fire5/relu_expand3x3[0][0]       \n",
      "__________________________________________________________________________________________________\n",
      "pool5 (MaxPooling2D)            (None, 1, 1, 256)    0           fire5/concat[0][0]               \n",
      "__________________________________________________________________________________________________\n",
      "fire6/squeeze1x1 (Conv2D)       (None, 1, 1, 48)     12336       pool5[0][0]                      \n",
      "__________________________________________________________________________________________________\n",
      "fire6/relu_squeeze1x1 (Activati (None, 1, 1, 48)     0           fire6/squeeze1x1[0][0]           \n",
      "__________________________________________________________________________________________________\n",
      "fire6/expand1x1 (Conv2D)        (None, 1, 1, 192)    9408        fire6/relu_squeeze1x1[0][0]      \n",
      "__________________________________________________________________________________________________\n",
      "fire6/expand3x3 (Conv2D)        (None, 1, 1, 192)    83136       fire6/relu_squeeze1x1[0][0]      \n",
      "__________________________________________________________________________________________________\n",
      "fire6/relu_expand1x1 (Activatio (None, 1, 1, 192)    0           fire6/expand1x1[0][0]            \n",
      "__________________________________________________________________________________________________\n",
      "fire6/relu_expand3x3 (Activatio (None, 1, 1, 192)    0           fire6/expand3x3[0][0]            \n",
      "__________________________________________________________________________________________________\n",
      "fire6/concat (Concatenate)      (None, 1, 1, 384)    0           fire6/relu_expand1x1[0][0]       \n",
      "                                                                 fire6/relu_expand3x3[0][0]       \n",
      "__________________________________________________________________________________________________\n",
      "fire7/squeeze1x1 (Conv2D)       (None, 1, 1, 48)     18480       fire6/concat[0][0]               \n",
      "__________________________________________________________________________________________________\n",
      "fire7/relu_squeeze1x1 (Activati (None, 1, 1, 48)     0           fire7/squeeze1x1[0][0]           \n",
      "__________________________________________________________________________________________________\n",
      "fire7/expand1x1 (Conv2D)        (None, 1, 1, 192)    9408        fire7/relu_squeeze1x1[0][0]      \n",
      "__________________________________________________________________________________________________\n",
      "fire7/expand3x3 (Conv2D)        (None, 1, 1, 192)    83136       fire7/relu_squeeze1x1[0][0]      \n",
      "__________________________________________________________________________________________________\n",
      "fire7/relu_expand1x1 (Activatio (None, 1, 1, 192)    0           fire7/expand1x1[0][0]            \n",
      "__________________________________________________________________________________________________\n",
      "fire7/relu_expand3x3 (Activatio (None, 1, 1, 192)    0           fire7/expand3x3[0][0]            \n",
      "__________________________________________________________________________________________________\n",
      "fire7/concat (Concatenate)      (None, 1, 1, 384)    0           fire7/relu_expand1x1[0][0]       \n",
      "                                                                 fire7/relu_expand3x3[0][0]       \n",
      "__________________________________________________________________________________________________\n",
      "fire8/squeeze1x1 (Conv2D)       (None, 1, 1, 64)     24640       fire7/concat[0][0]               \n",
      "__________________________________________________________________________________________________\n",
      "fire8/relu_squeeze1x1 (Activati (None, 1, 1, 64)     0           fire8/squeeze1x1[0][0]           \n",
      "__________________________________________________________________________________________________\n",
      "fire8/expand1x1 (Conv2D)        (None, 1, 1, 256)    16640       fire8/relu_squeeze1x1[0][0]      \n",
      "__________________________________________________________________________________________________\n",
      "fire8/expand3x3 (Conv2D)        (None, 1, 1, 256)    147712      fire8/relu_squeeze1x1[0][0]      \n",
      "__________________________________________________________________________________________________\n",
      "fire8/relu_expand1x1 (Activatio (None, 1, 1, 256)    0           fire8/expand1x1[0][0]            \n",
      "__________________________________________________________________________________________________\n",
      "fire8/relu_expand3x3 (Activatio (None, 1, 1, 256)    0           fire8/expand3x3[0][0]            \n",
      "__________________________________________________________________________________________________\n",
      "fire8/concat (Concatenate)      (None, 1, 1, 512)    0           fire8/relu_expand1x1[0][0]       \n",
      "                                                                 fire8/relu_expand3x3[0][0]       \n",
      "__________________________________________________________________________________________________\n",
      "fire9/squeeze1x1 (Conv2D)       (None, 1, 1, 64)     32832       fire8/concat[0][0]               \n",
      "__________________________________________________________________________________________________\n",
      "fire9/relu_squeeze1x1 (Activati (None, 1, 1, 64)     0           fire9/squeeze1x1[0][0]           \n",
      "__________________________________________________________________________________________________\n",
      "fire9/expand1x1 (Conv2D)        (None, 1, 1, 256)    16640       fire9/relu_squeeze1x1[0][0]      \n",
      "__________________________________________________________________________________________________\n",
      "fire9/expand3x3 (Conv2D)        (None, 1, 1, 256)    147712      fire9/relu_squeeze1x1[0][0]      \n",
      "__________________________________________________________________________________________________\n",
      "fire9/relu_expand1x1 (Activatio (None, 1, 1, 256)    0           fire9/expand1x1[0][0]            \n",
      "__________________________________________________________________________________________________\n",
      "fire9/relu_expand3x3 (Activatio (None, 1, 1, 256)    0           fire9/expand3x3[0][0]            \n",
      "__________________________________________________________________________________________________\n",
      "fire9/concat (Concatenate)      (None, 1, 1, 512)    0           fire9/relu_expand1x1[0][0]       \n",
      "                                                                 fire9/relu_expand3x3[0][0]       \n",
      "__________________________________________________________________________________________________\n",
      "drop9 (Dropout)                 (None, 1, 1, 512)    0           fire9/concat[0][0]               \n",
      "__________________________________________________________________________________________________\n",
      "conv10 (Conv2D)                 (None, 1, 1, 41)     21033       drop9[0][0]                      \n",
      "__________________________________________________________________________________________________\n",
      "relu_conv10 (Activation)        (None, 1, 1, 41)     0           conv10[0][0]                     \n",
      "__________________________________________________________________________________________________\n",
      "global_average_pooling2d_1 (Glo (None, 41)           0           relu_conv10[0][0]                \n",
      "__________________________________________________________________________________________________\n",
      "loss (Activation)               (None, 41)           0           global_average_pooling2d_1[0][0] \n",
      "==================================================================================================\n",
      "Total params: 743,529\n",
      "Trainable params: 743,529\n",
      "Non-trainable params: 0\n",
      "__________________________________________________________________________________________________\n"
     ]
    }
   ],
   "source": [
    "# Composition of SqueezeNet Architecture\n",
    "model_squeezenet.summary()"
   ]
  },
  {
   "cell_type": "code",
   "execution_count": 5,
   "metadata": {},
   "outputs": [],
   "source": [
    "# Import ADAM as CNN Optimizer\n",
    "from keras.optimizers import Adam"
   ]
  },
  {
   "cell_type": "code",
   "execution_count": 6,
   "metadata": {},
   "outputs": [
    {
     "name": "stderr",
     "output_type": "stream",
     "text": [
      "W1110 15:48:42.573065 140277728024384 deprecation_wrapper.py:119] From /home/ec2-user/anaconda3/envs/tensorflow_p36/lib/python3.6/site-packages/keras/optimizers.py:790: The name tf.train.Optimizer is deprecated. Please use tf.compat.v1.train.Optimizer instead.\n",
      "\n",
      "W1110 15:48:42.584928 140277728024384 deprecation_wrapper.py:119] From /home/ec2-user/anaconda3/envs/tensorflow_p36/lib/python3.6/site-packages/keras/backend/tensorflow_backend.py:3295: The name tf.log is deprecated. Please use tf.math.log instead.\n",
      "\n"
     ]
    }
   ],
   "source": [
    "# Compile CNN Architecture\n",
    "model_squeezenet.compile(\n",
    "    # Loss set to categorical_crossentropy for Multi-class Classification\n",
    "    loss=\"categorical_crossentropy\",\n",
    "    # Set optimizer to ADAM with 0.0001 Learning Rate\n",
    "    optimizer=Adam(lr=0.0001),\n",
    "    # Set Accuracy as Metric\n",
    "    metrics=[\"acc\"],\n",
    ")"
   ]
  },
  {
   "cell_type": "code",
   "execution_count": 7,
   "metadata": {},
   "outputs": [],
   "source": [
    "# Import Model Plotter\n",
    "from keras.utils import plot_model"
   ]
  },
  {
   "cell_type": "code",
   "execution_count": 8,
   "metadata": {},
   "outputs": [],
   "source": [
    "# Plot CNN Architecture and save to model.png\n",
    "plot_model(model_squeezenet, to_file=\"model.png\", show_shapes=True, rankdir=\"TB\")"
   ]
  },
  {
   "cell_type": "markdown",
   "metadata": {},
   "source": [
    "# Loading of FCS Dataset"
   ]
  },
  {
   "cell_type": "code",
   "execution_count": 8,
   "metadata": {},
   "outputs": [],
   "source": [
    "# Import Image Loader and OS\n",
    "from keras.preprocessing.image import ImageDataGenerator\n",
    "import os"
   ]
  },
  {
   "cell_type": "code",
   "execution_count": 9,
   "metadata": {},
   "outputs": [],
   "source": [
    "# Set number of train images per batch as 64\n",
    "batch_size_train = 64\n",
    "# Set number of test images per batch as 64\n",
    "batch_size_val = 64\n",
    "# Number of classes\n",
    "num_classes= 41\n",
    "# Standard size for images to load\n",
    "STANDARD_SIZE=(32,32)\n",
    "# Name of Classes\n",
    "classes_required = os.listdir(\"Data_Images_V2/Train/\")"
   ]
  },
  {
   "cell_type": "code",
   "execution_count": 11,
   "metadata": {},
   "outputs": [
    {
     "name": "stdout",
     "output_type": "stream",
     "text": [
      "Found 9712 images belonging to 41 classes.\n"
     ]
    }
   ],
   "source": [
    "# Load Train Images\n",
    "train_path = 'Data_Images_V2/Train/'\n",
    "train_batches = ImageDataGenerator().flow_from_directory(train_path, target_size=STANDARD_SIZE, classes=classes_required, batch_size=batch_size_train)"
   ]
  },
  {
   "cell_type": "code",
   "execution_count": 10,
   "metadata": {},
   "outputs": [
    {
     "name": "stdout",
     "output_type": "stream",
     "text": [
      "Found 2355 images belonging to 41 classes.\n"
     ]
    }
   ],
   "source": [
    "# Load Test Images\n",
    "val_path = 'Data_Images_V2/Test/'\n",
    "val_batches = ImageDataGenerator().flow_from_directory(val_path, target_size=STANDARD_SIZE, classes=classes_required, batch_size=batch_size_val)"
   ]
  },
  {
   "cell_type": "markdown",
   "metadata": {},
   "source": [
    "# Model Training"
   ]
  },
  {
   "cell_type": "code",
   "execution_count": 13,
   "metadata": {},
   "outputs": [],
   "source": [
    "# Import callbacks\n",
    "from keras.callbacks import EarlyStopping, ModelCheckpoint, ReduceLROnPlateau"
   ]
  },
  {
   "cell_type": "code",
   "execution_count": 14,
   "metadata": {},
   "outputs": [],
   "source": [
    "# Model Checkpoint saves every best results for every epoch\n",
    "callback_model = ModelCheckpoint(\"Trained-SqueezeNet-Model-FCS-Type-V2-11-10-2019-V2-1-Epoch {epoch:02d}--Train Acc {acc:.2f}--Val Acc {val_acc:.2f}.h5\", monitor='val_acc', save_weights_only=True, save_best_only=True, verbose=True)"
   ]
  },
  {
   "cell_type": "code",
   "execution_count": 15,
   "metadata": {},
   "outputs": [],
   "source": [
    "# Early Stopping stops epoch if model doesn't improved after the amount of patience indicated\n",
    "callback_early = EarlyStopping(monitor='val_acc', min_delta=0.001, patience=10, restore_best_weights=True, verbose=True)"
   ]
  },
  {
   "cell_type": "code",
   "execution_count": 16,
   "metadata": {},
   "outputs": [],
   "source": [
    "# Reduce Learning Rate on Plateau reduces learning rate when loss doesn't improved after the amount of patience indicated\n",
    "callback_reduce = ReduceLROnPlateau(patience=5, factor=0.2, min_lr=0.000001, verbose=True)"
   ]
  },
  {
   "cell_type": "code",
   "execution_count": 21,
   "metadata": {
    "scrolled": true
   },
   "outputs": [
    {
     "name": "stdout",
     "output_type": "stream",
     "text": [
      "Epoch 1/500\n",
      "2000/2000 [==============================] - 90s 45ms/step - loss: 0.3422 - acc: 0.8985 - val_loss: 0.8739 - val_acc: 0.7932\n",
      "\n",
      "Epoch 00001: val_acc improved from -inf to 0.79323, saving model to Trained-SqueezeNet-Model-FCS-Type-V2-11-10-2019-V2-1-Epoch 01--Train Acc 0.90--Val Acc 0.79.h5\n",
      "Epoch 2/500\n",
      "2000/2000 [==============================] - 90s 45ms/step - loss: 0.2587 - acc: 0.9251 - val_loss: 0.8015 - val_acc: 0.8222\n",
      "\n",
      "Epoch 00002: val_acc improved from 0.79323 to 0.82223, saving model to Trained-SqueezeNet-Model-FCS-Type-V2-11-10-2019-V2-1-Epoch 02--Train Acc 0.93--Val Acc 0.82.h5\n",
      "Epoch 3/500\n",
      "2000/2000 [==============================] - 89s 45ms/step - loss: 0.1483 - acc: 0.9548 - val_loss: 0.8660 - val_acc: 0.8229\n",
      "\n",
      "Epoch 00003: val_acc improved from 0.82223 to 0.82287, saving model to Trained-SqueezeNet-Model-FCS-Type-V2-11-10-2019-V2-1-Epoch 03--Train Acc 0.95--Val Acc 0.82.h5\n",
      "Epoch 4/500\n",
      "2000/2000 [==============================] - 89s 45ms/step - loss: 0.1196 - acc: 0.9633 - val_loss: 0.9459 - val_acc: 0.8174\n",
      "\n",
      "Epoch 00004: val_acc did not improve from 0.82287\n",
      "Epoch 5/500\n",
      "2000/2000 [==============================] - 89s 45ms/step - loss: 0.0995 - acc: 0.9700 - val_loss: 0.9014 - val_acc: 0.8186\n",
      "\n",
      "Epoch 00005: val_acc did not improve from 0.82287\n",
      "Epoch 6/500\n",
      "2000/2000 [==============================] - 90s 45ms/step - loss: 0.0792 - acc: 0.9764 - val_loss: 1.0701 - val_acc: 0.8198\n",
      "\n",
      "Epoch 00006: val_acc did not improve from 0.82287\n",
      "Epoch 7/500\n",
      "2000/2000 [==============================] - 89s 45ms/step - loss: 0.0749 - acc: 0.9771 - val_loss: 1.0093 - val_acc: 0.8401\n",
      "\n",
      "Epoch 00007: val_acc improved from 0.82287 to 0.84008, saving model to Trained-SqueezeNet-Model-FCS-Type-V2-11-10-2019-V2-1-Epoch 07--Train Acc 0.98--Val Acc 0.84.h5\n",
      "\n",
      "Epoch 00007: ReduceLROnPlateau reducing learning rate to 1.9999999494757503e-05.\n",
      "Epoch 8/500\n",
      "2000/2000 [==============================] - 90s 45ms/step - loss: 0.0182 - acc: 0.9958 - val_loss: 1.0605 - val_acc: 0.8471\n",
      "\n",
      "Epoch 00008: val_acc improved from 0.84008 to 0.84708, saving model to Trained-SqueezeNet-Model-FCS-Type-V2-11-10-2019-V2-1-Epoch 08--Train Acc 1.00--Val Acc 0.85.h5\n",
      "Epoch 9/500\n",
      "2000/2000 [==============================] - 89s 44ms/step - loss: 0.0170 - acc: 0.9959 - val_loss: 1.1332 - val_acc: 0.8420\n",
      "\n",
      "Epoch 00009: val_acc did not improve from 0.84708\n",
      "Epoch 10/500\n",
      "2000/2000 [==============================] - 89s 45ms/step - loss: 0.0180 - acc: 0.9955 - val_loss: 1.1484 - val_acc: 0.8418\n",
      "\n",
      "Epoch 00010: val_acc did not improve from 0.84708\n",
      "Epoch 11/500\n",
      "2000/2000 [==============================] - 89s 45ms/step - loss: 0.0157 - acc: 0.9961 - val_loss: 1.2181 - val_acc: 0.8402\n",
      "\n",
      "Epoch 00011: val_acc did not improve from 0.84708\n",
      "Epoch 12/500\n",
      "2000/2000 [==============================] - 89s 44ms/step - loss: 0.0157 - acc: 0.9961 - val_loss: 1.2244 - val_acc: 0.8438\n",
      "\n",
      "Epoch 00012: val_acc did not improve from 0.84708\n",
      "\n",
      "Epoch 00012: ReduceLROnPlateau reducing learning rate to 3.999999898951501e-06.\n",
      "Epoch 13/500\n",
      "2000/2000 [==============================] - 89s 45ms/step - loss: 0.0128 - acc: 0.9968 - val_loss: 1.2176 - val_acc: 0.8460\n",
      "\n",
      "Epoch 00013: val_acc did not improve from 0.84708\n",
      "Epoch 14/500\n",
      "2000/2000 [==============================] - 90s 45ms/step - loss: 0.0127 - acc: 0.9969 - val_loss: 1.2405 - val_acc: 0.8446\n",
      "\n",
      "Epoch 00014: val_acc did not improve from 0.84708\n",
      "Epoch 15/500\n",
      "2000/2000 [==============================] - 89s 44ms/step - loss: 0.0127 - acc: 0.9969 - val_loss: 1.2805 - val_acc: 0.8432\n",
      "\n",
      "Epoch 00015: val_acc did not improve from 0.84708\n",
      "Epoch 16/500\n",
      "2000/2000 [==============================] - 89s 45ms/step - loss: 0.0126 - acc: 0.9969 - val_loss: 1.2978 - val_acc: 0.8434\n",
      "\n",
      "Epoch 00016: val_acc did not improve from 0.84708\n",
      "Epoch 17/500\n",
      "2000/2000 [==============================] - 89s 44ms/step - loss: 0.0125 - acc: 0.9970 - val_loss: 1.3260 - val_acc: 0.8411\n",
      "\n",
      "Epoch 00017: val_acc did not improve from 0.84708\n",
      "\n",
      "Epoch 00017: ReduceLROnPlateau reducing learning rate to 1e-06.\n",
      "Epoch 18/500\n",
      "2000/2000 [==============================] - 89s 45ms/step - loss: 0.0126 - acc: 0.9968 - val_loss: 1.3073 - val_acc: 0.8431\n",
      "Restoring model weights from the end of the best epoch\n",
      "\n",
      "Epoch 00018: val_acc did not improve from 0.84708\n",
      "Epoch 00018: early stopping\n"
     ]
    }
   ],
   "source": [
    "# Train model with training images\n",
    "history = model_squeezenet.fit_generator(train_batches, \n",
    "                             # Number of times the model will train\n",
    "                             epochs=500, \n",
    "                             # Number of train batches to execute per epoch\n",
    "                             steps_per_epoch=64, \n",
    "                             # Test Images for validation\n",
    "                             validation_data=val_batches, \n",
    "                             # Number of validation batches to execute per epoch\n",
    "                             validation_steps=64,\n",
    "                             # Callbacks to be executed after each epochs\n",
    "                             callbacks=[callback_early,callback_model,callback_reduce])"
   ]
  },
  {
   "cell_type": "markdown",
   "metadata": {},
   "source": [
    "# Model history of training"
   ]
  },
  {
   "cell_type": "code",
   "execution_count": 31,
   "metadata": {},
   "outputs": [],
   "source": [
    "# Values of accuracy per epoch\n",
    "acc = [0.8985460748716665,\n",
    " 0.9250970327079527,\n",
    " 0.954842849987478,\n",
    " 0.9633466883611362,\n",
    " 0.9700294228195323,\n",
    " 0.97638349818455,\n",
    " 0.9771347189406303,\n",
    " 0.9957587329484919]\n",
    "#  0.9959225519734041,\n",
    "#  0.9954535495254294,\n",
    "#  0.996079566810969,\n",
    "#  0.9960795668035063,\n",
    "#  0.9968386127531745,\n",
    "#  0.9968933892575436,\n",
    "#  0.9968773478811438,\n",
    "#  0.99692469012891,\n",
    "#  0.996948165776838,\n",
    "#  0.9968542632075146]"
   ]
  },
  {
   "cell_type": "code",
   "execution_count": 32,
   "metadata": {},
   "outputs": [],
   "source": [
    "# Values of validation accuracy per epoch\n",
    "val_acc = [0.7932253455225713,\n",
    " 0.8222281577641479,\n",
    " 0.8228723156176673,\n",
    " 0.8174362521690068,\n",
    " 0.8186303007868458,\n",
    " 0.8198243493812735,\n",
    " 0.8400760422668936,\n",
    " 0.847083222239755]\n",
    "#  0.8420242268304334,\n",
    "#  0.841804270487809,\n",
    "#  0.8402488650911389,\n",
    "#  0.8437995885697278,\n",
    "#  0.8459677294487347,\n",
    "#  0.8446322803459931,\n",
    "#  0.8432182754286068,\n",
    "#  0.8433753871065922,\n",
    "#  0.8410658457202078,\n",
    "#  0.8431082972755556]"
   ]
  },
  {
   "cell_type": "code",
   "execution_count": 33,
   "metadata": {},
   "outputs": [],
   "source": [
    "# Values of loss per epoch\n",
    "loss = [0.34217259881305984,\n",
    " 0.25871856989092024,\n",
    " 0.1483336622914686,\n",
    " 0.1195702070585569,\n",
    " 0.0994411338868369,\n",
    " 0.07916085280445817,\n",
    " 0.07484452292559587,\n",
    " 0.018190510559542895]\n",
    "#  0.01694078361126539,\n",
    "#  0.01800097734539642,\n",
    "#  0.015705072648832124,\n",
    "#  0.015698960747364075,\n",
    "#  0.012841447286421682,\n",
    "#  0.01271516624713784,\n",
    "#  0.012697017510237872,\n",
    "#  0.012574297532459321,\n",
    "#  0.012542116220453179,\n",
    "#  0.012537939019759328]"
   ]
  },
  {
   "cell_type": "code",
   "execution_count": 34,
   "metadata": {},
   "outputs": [],
   "source": [
    "# Values of validation loss per epoch\n",
    "val_loss = [0.8739344605168712,\n",
    " 0.8015428664939049,\n",
    " 0.8659974136634075,\n",
    " 0.94593105107669,\n",
    " 0.9013582230734262,\n",
    " 1.0700830496335738,\n",
    " 1.0093108686830103,\n",
    " 1.0604551655525787]\n",
    "#  1.1331966772901902,\n",
    "#  1.1484390101364308,\n",
    "#  1.2180939160857331,\n",
    "#  1.2243626790139663,\n",
    "#  1.2176366340520048,\n",
    "#  1.2404502302983673,\n",
    "#  1.2805392486611515,\n",
    "#  1.297770364851747,\n",
    "#  1.3259593865076713,\n",
    "#  1.3072961779708796]"
   ]
  },
  {
   "cell_type": "markdown",
   "metadata": {},
   "source": [
    "# Model perfomance plot"
   ]
  },
  {
   "cell_type": "code",
   "execution_count": 21,
   "metadata": {},
   "outputs": [],
   "source": [
    "# Import \n",
    "import matplotlib.pyplot as plt\n",
    "%matplotlib inline"
   ]
  },
  {
   "cell_type": "code",
   "execution_count": 35,
   "metadata": {},
   "outputs": [
    {
     "data": {
      "image/png": "[encoded data removed]",
      "text/plain": [
       "<Figure size 432x288 with 1 Axes>"
      ]
     },
     "metadata": {
      "needs_background": "light"
     },
     "output_type": "display_data"
    }
   ],
   "source": [
    "# Plot training & validation accuracy values\n",
    "plt.plot(acc)\n",
    "plt.plot(val_acc)\n",
    "plt.ylim([0.0, 1.0])\n",
    "plt.title('Model accuracy')\n",
    "plt.ylabel('Accuracy')\n",
    "plt.xlabel('Epoch')\n",
    "plt.legend(['Train', 'Test'], loc='upper left')\n",
    "plt.show()"
   ]
  },
  {
   "cell_type": "code",
   "execution_count": 30,
   "metadata": {},
   "outputs": [
    {
     "data": {
      "image/png": "[encoded data removed]",
      "text/plain": [
       "<Figure size 432x288 with 1 Axes>"
      ]
     },
     "metadata": {
      "needs_background": "light"
     },
     "output_type": "display_data"
    }
   ],
   "source": [
    "# Plot training & validation loss values\n",
    "plt.plot(loss)\n",
    "plt.plot(val_loss)\n",
    "plt.title('Model loss')\n",
    "plt.ylabel('Loss')\n",
    "plt.xlabel('Epoch')\n",
    "plt.legend(['Train', 'Test'], loc='upper left')\n",
    "plt.show()"
   ]
  }
 ],
 "metadata": {
  "kernelspec": {
   "display_name": "Python 3",
   "language": "python",
   "name": "python3"
  },
  "language_info": {
   "codemirror_mode": {
    "name": "ipython",
    "version": 3
   },
   "file_extension": ".py",
   "mimetype": "text/x-python",
   "name": "python",
   "nbconvert_exporter": "python",
   "pygments_lexer": "ipython3",
   "version": "3.6.8"
  }
 },
 "nbformat": 4,
 "nbformat_minor": 2
}
